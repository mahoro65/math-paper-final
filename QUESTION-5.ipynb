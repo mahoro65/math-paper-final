{
 "cells": [
  {
   "cell_type": "code",
   "execution_count": 2,
   "metadata": {},
   "outputs": [],
   "source": [
    "import numpy as np"
   ]
  },
  {
   "cell_type": "code",
   "execution_count": 4,
   "metadata": {},
   "outputs": [],
   "source": [
    "import math"
   ]
  },
  {
   "cell_type": "code",
   "execution_count": 8,
   "metadata": {},
   "outputs": [
    {
     "name": "stdout",
     "output_type": "stream",
     "text": [
      "[-11.2  12.8 -15.6]\n"
     ]
    }
   ],
   "source": [
    "# 2x + M - C = 6\n",
    "# -5x - Z + 2z = -12\n",
    "# -2x + y + 2z = 4\n",
    "\n",
    "coefficients = [[2, 1, -1],[-5, -1, 2],[-2, 1, 2]]\n",
    "constants = ([6, 12, 4])\n",
    "\n",
    "\n",
    "coefficients =np.array([[2, 1, -1],[-5, -1, 2],[-2, 1, 2]])\n",
    "constants = np.array([6, 12, 4])\n",
    "\n",
    "\n",
    "solution =np.linalg.solve(coefficients, constants)\n",
    "print(solution)\n",
    "\n"
   ]
  },
  {
   "cell_type": "markdown",
   "metadata": {},
   "source": [
    "adding three linear equations"
   ]
  },
  {
   "cell_type": "code",
   "execution_count": 11,
   "metadata": {},
   "outputs": [
    {
     "name": "stdout",
     "output_type": "stream",
     "text": [
      "[[ 8 13  3]\n",
      " [ 1 11  6]\n",
      " [ 4 13  6]]\n"
     ]
    }
   ],
   "source": [
    "# 2x + M - C = 6\n",
    "# -5x - Z + 2z = -12\n",
    "# -2x + y + 2z = 4\n",
    "\n",
    "coefficients = [[2, 1, -1],[-5, -1, 2],[-2, 1, 2]]\n",
    "constants = ([6, 12, 4])\n",
    "\n",
    "\n",
    "coefficients =np.array([[2, 1, -1],[-5, -1, 2],[-2, 1, 2]])\n",
    "constants = np.array([6, 12, 4])\n",
    "result =np.add(coefficients, constants)\n",
    "print(result)"
   ]
  }
 ],
 "metadata": {
  "kernelspec": {
   "display_name": "Python 3",
   "language": "python",
   "name": "python3"
  },
  "language_info": {
   "codemirror_mode": {
    "name": "ipython",
    "version": 3
   },
   "file_extension": ".py",
   "mimetype": "text/x-python",
   "name": "python",
   "nbconvert_exporter": "python",
   "pygments_lexer": "ipython3",
   "version": "3.12.0"
  }
 },
 "nbformat": 4,
 "nbformat_minor": 2
}
